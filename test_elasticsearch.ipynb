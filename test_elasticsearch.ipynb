{
 "cells": [
  {
   "cell_type": "code",
   "execution_count": 1,
   "metadata": {},
   "outputs": [
    {
     "data": {
      "text/plain": [
       "{'name': 'e22daf50a33f',\n",
       " 'cluster_name': 'docker-cluster',\n",
       " 'cluster_uuid': 'VVaP-BPiSyKO_yho-aX1Hg',\n",
       " 'version': {'number': '8.7.0',\n",
       "  'build_flavor': 'default',\n",
       "  'build_type': 'docker',\n",
       "  'build_hash': '09520b59b6bc1057340b55750186466ea715e30e',\n",
       "  'build_date': '2023-03-27T16:31:09.816451435Z',\n",
       "  'build_snapshot': False,\n",
       "  'lucene_version': '9.5.0',\n",
       "  'minimum_wire_compatibility_version': '7.17.0',\n",
       "  'minimum_index_compatibility_version': '7.0.0'},\n",
       " 'tagline': 'You Know, for Search'}"
      ]
     },
     "execution_count": 1,
     "metadata": {},
     "output_type": "execute_result"
    }
   ],
   "source": [
    "from elasticsearch import Elasticsearch\n",
    "\n",
    "es = Elasticsearch(\"http://localhost:9200\")\n",
    "es.info().body"
   ]
  },
  {
   "cell_type": "code",
   "execution_count": 2,
   "metadata": {},
   "outputs": [
    {
     "name": "stderr",
     "output_type": "stream",
     "text": [
      "/opt/conda/envs/elastic/lib/python3.9/site-packages/tqdm/auto.py:21: TqdmWarning: IProgress not found. Please update jupyter and ipywidgets. See https://ipywidgets.readthedocs.io/en/stable/user_install.html\n",
      "  from .autonotebook import tqdm as notebook_tqdm\n"
     ]
    }
   ],
   "source": [
    "from datasets import load_dataset\n",
    "\n",
    "dataset = load_dataset(\"nlplabtdtu/edu-crawl-with-date\", split=\"train[:500]\" , token=\"\")"
   ]
  },
  {
   "cell_type": "code",
   "execution_count": 3,
   "metadata": {},
   "outputs": [],
   "source": [
    "from sentence_transformers import SentenceTransformer, util\n",
    "# model = SentenceTransformer('nlplabtdtu/bert-70M-cased-senformer')"
   ]
  },
  {
   "cell_type": "code",
   "execution_count": 4,
   "metadata": {},
   "outputs": [],
   "source": [
    "from elasticsearch import helpers"
   ]
  },
  {
   "cell_type": "code",
   "execution_count": null,
   "metadata": {},
   "outputs": [],
   "source": [
    "if not es.indices.exists(index=\"edu_data_index\"):\n",
    "    try:\n",
    "      es_index = {\n",
    "        \"mappings\": {\n",
    "          \"properties\": {\n",
    "            \"title\": {\n",
    "              \"type\": \"text\"\n",
    "            },\n",
    "            \"body\": {\n",
    "              \"type\": \"text\"\n",
    "            },\n",
    "            \"date\": {\n",
    "              \"type\": \"text\"\n",
    "            },\n",
    "            \"body_vector\": {\n",
    "              \"type\": \"dense_vector\",\n",
    "              \"dims\": 768\n",
    "            }\n",
    "          }\n",
    "        }\n",
    "      }\n",
    "\n",
    "      es.indices.create(index='edu_data_index', body=es_index, ignore=[400])\n",
    "      bulk_data = []\n",
    "      for i in range(len(dataset)):\n",
    "        embedding = model.encode(dataset[i]['body'], show_progress_bar=False)\n",
    "        bulk_data.append({\n",
    "                \"_index\": 'edu_data_index',\n",
    "                \"_source\": {\n",
    "                    \"title\": dataset[i]['title'],\n",
    "                    \"body\": dataset[i]['body'],\n",
    "                    \"date\": dataset[i]['date'],\n",
    "                    \"body_vector\": embedding\n",
    "                }\n",
    "            })\n",
    "      print(bulk_data[0])\n",
    "\n",
    "      helpers.bulk(es, bulk_data)\n",
    "\n",
    "    except:\n",
    "        print(\"During index an exception occured. Continue\\n\\n\")"
   ]
  },
  {
   "cell_type": "code",
   "execution_count": 5,
   "metadata": {},
   "outputs": [
    {
     "ename": "NotFoundError",
     "evalue": "NotFoundError(404, 'index_not_found_exception', 'no such index [edu_data_index]', edu_data_index, index_or_alias)",
     "output_type": "error",
     "traceback": [
      "\u001b[0;31m---------------------------------------------------------------------------\u001b[0m",
      "\u001b[0;31mNotFoundError\u001b[0m                             Traceback (most recent call last)",
      "\u001b[1;32m/workspaces/codespaces-blank/test_elasticsearch.ipynb Cell 6\u001b[0m line \u001b[0;36m1\n\u001b[0;32m----> <a href='vscode-notebook-cell://codespaces%2Bglorious-space-palm-tree-pq59jr4grwxh6wj7/workspaces/codespaces-blank/test_elasticsearch.ipynb#W5sdnNjb2RlLXJlbW90ZQ%3D%3D?line=0'>1</a>\u001b[0m es\u001b[39m.\u001b[39;49mindices\u001b[39m.\u001b[39;49mrefresh(index\u001b[39m=\u001b[39;49m\u001b[39m\"\u001b[39;49m\u001b[39medu_data_index\u001b[39;49m\u001b[39m\"\u001b[39;49m)\n\u001b[1;32m      <a href='vscode-notebook-cell://codespaces%2Bglorious-space-palm-tree-pq59jr4grwxh6wj7/workspaces/codespaces-blank/test_elasticsearch.ipynb#W5sdnNjb2RlLXJlbW90ZQ%3D%3D?line=1'>2</a>\u001b[0m es\u001b[39m.\u001b[39mcat\u001b[39m.\u001b[39mcount(index\u001b[39m=\u001b[39m\u001b[39m\"\u001b[39m\u001b[39medu_data_index\u001b[39m\u001b[39m\"\u001b[39m, \u001b[39mformat\u001b[39m\u001b[39m=\u001b[39m\u001b[39m\"\u001b[39m\u001b[39mjson\u001b[39m\u001b[39m\"\u001b[39m)\n",
      "File \u001b[0;32m/opt/conda/envs/elastic/lib/python3.9/site-packages/elasticsearch/_sync/client/utils.py:414\u001b[0m, in \u001b[0;36m_rewrite_parameters.<locals>.wrapper.<locals>.wrapped\u001b[0;34m(*args, **kwargs)\u001b[0m\n\u001b[1;32m    411\u001b[0m         \u001b[39mexcept\u001b[39;00m \u001b[39mKeyError\u001b[39;00m:\n\u001b[1;32m    412\u001b[0m             \u001b[39mpass\u001b[39;00m\n\u001b[0;32m--> 414\u001b[0m \u001b[39mreturn\u001b[39;00m api(\u001b[39m*\u001b[39;49margs, \u001b[39m*\u001b[39;49m\u001b[39m*\u001b[39;49mkwargs)\n",
      "File \u001b[0;32m/opt/conda/envs/elastic/lib/python3.9/site-packages/elasticsearch/_sync/client/indices.py:3008\u001b[0m, in \u001b[0;36mIndicesClient.refresh\u001b[0;34m(self, index, allow_no_indices, error_trace, expand_wildcards, filter_path, human, ignore_unavailable, pretty)\u001b[0m\n\u001b[1;32m   3006\u001b[0m     __query[\u001b[39m\"\u001b[39m\u001b[39mpretty\u001b[39m\u001b[39m\"\u001b[39m] \u001b[39m=\u001b[39m pretty\n\u001b[1;32m   3007\u001b[0m __headers \u001b[39m=\u001b[39m {\u001b[39m\"\u001b[39m\u001b[39maccept\u001b[39m\u001b[39m\"\u001b[39m: \u001b[39m\"\u001b[39m\u001b[39mapplication/json\u001b[39m\u001b[39m\"\u001b[39m}\n\u001b[0;32m-> 3008\u001b[0m \u001b[39mreturn\u001b[39;00m \u001b[39mself\u001b[39;49m\u001b[39m.\u001b[39;49mperform_request(  \u001b[39m# type: ignore[return-value]\u001b[39;49;00m\n\u001b[1;32m   3009\u001b[0m     \u001b[39m\"\u001b[39;49m\u001b[39mPOST\u001b[39;49m\u001b[39m\"\u001b[39;49m, __path, params\u001b[39m=\u001b[39;49m__query, headers\u001b[39m=\u001b[39;49m__headers\n\u001b[1;32m   3010\u001b[0m )\n",
      "File \u001b[0;32m/opt/conda/envs/elastic/lib/python3.9/site-packages/elasticsearch/_sync/client/_base.py:389\u001b[0m, in \u001b[0;36mNamespacedClient.perform_request\u001b[0;34m(self, method, path, params, headers, body)\u001b[0m\n\u001b[1;32m    378\u001b[0m \u001b[39mdef\u001b[39;00m \u001b[39mperform_request\u001b[39m(\n\u001b[1;32m    379\u001b[0m     \u001b[39mself\u001b[39m,\n\u001b[1;32m    380\u001b[0m     method: \u001b[39mstr\u001b[39m,\n\u001b[0;32m   (...)\u001b[0m\n\u001b[1;32m    387\u001b[0m     \u001b[39m# Use the internal clients .perform_request() implementation\u001b[39;00m\n\u001b[1;32m    388\u001b[0m     \u001b[39m# so we take advantage of their transport options.\u001b[39;00m\n\u001b[0;32m--> 389\u001b[0m     \u001b[39mreturn\u001b[39;00m \u001b[39mself\u001b[39;49m\u001b[39m.\u001b[39;49m_client\u001b[39m.\u001b[39;49mperform_request(\n\u001b[1;32m    390\u001b[0m         method, path, params\u001b[39m=\u001b[39;49mparams, headers\u001b[39m=\u001b[39;49mheaders, body\u001b[39m=\u001b[39;49mbody\n\u001b[1;32m    391\u001b[0m     )\n",
      "File \u001b[0;32m/opt/conda/envs/elastic/lib/python3.9/site-packages/elasticsearch/_sync/client/_base.py:320\u001b[0m, in \u001b[0;36mBaseClient.perform_request\u001b[0;34m(self, method, path, params, headers, body)\u001b[0m\n\u001b[1;32m    317\u001b[0m         \u001b[39mexcept\u001b[39;00m (\u001b[39mValueError\u001b[39;00m, \u001b[39mKeyError\u001b[39;00m, \u001b[39mTypeError\u001b[39;00m):\n\u001b[1;32m    318\u001b[0m             \u001b[39mpass\u001b[39;00m\n\u001b[0;32m--> 320\u001b[0m     \u001b[39mraise\u001b[39;00m HTTP_EXCEPTIONS\u001b[39m.\u001b[39mget(meta\u001b[39m.\u001b[39mstatus, ApiError)(\n\u001b[1;32m    321\u001b[0m         message\u001b[39m=\u001b[39mmessage, meta\u001b[39m=\u001b[39mmeta, body\u001b[39m=\u001b[39mresp_body\n\u001b[1;32m    322\u001b[0m     )\n\u001b[1;32m    324\u001b[0m \u001b[39m# 'X-Elastic-Product: Elasticsearch' should be on every 2XX response.\u001b[39;00m\n\u001b[1;32m    325\u001b[0m \u001b[39mif\u001b[39;00m \u001b[39mnot\u001b[39;00m \u001b[39mself\u001b[39m\u001b[39m.\u001b[39m_verified_elasticsearch:\n\u001b[1;32m    326\u001b[0m     \u001b[39m# If the header is set we mark the server as verified.\u001b[39;00m\n",
      "\u001b[0;31mNotFoundError\u001b[0m: NotFoundError(404, 'index_not_found_exception', 'no such index [edu_data_index]', edu_data_index, index_or_alias)"
     ]
    }
   ],
   "source": [
    "es.indices.refresh(index=\"edu_data_index\")\n",
    "es.cat.count(index=\"edu_data_index\", format=\"json\")"
   ]
  },
  {
   "cell_type": "code",
   "execution_count": 6,
   "metadata": {},
   "outputs": [],
   "source": [
    "inp_question = \"\"\"Ban Giám đốc đổi tên Ban Khảo thí và Kiểm định chất lượng đào tạo thành Ban Khảo thí và Quản lý chất lượng vào thời gian nào?\"\"\""
   ]
  },
  {
   "cell_type": "code",
   "execution_count": 10,
   "metadata": {},
   "outputs": [
    {
     "name": "stdout",
     "output_type": "stream",
     "text": [
      "Encoding time: 0.029086589813232422\n"
     ]
    }
   ],
   "source": [
    "import time \n",
    "\n",
    "encode_start_time = time.time()\n",
    "question_embedding = model.encode(inp_question)\n",
    "encode_end_time = time.time()\n",
    "\n",
    "print(\"Encoding time:\", encode_end_time - encode_start_time)"
   ]
  },
  {
   "cell_type": "code",
   "execution_count": 7,
   "metadata": {},
   "outputs": [
    {
     "name": "stdout",
     "output_type": "stream",
     "text": [
      "Searching time: 0.012\n",
      "BM25 results:\n",
      "\t\n",
      "Thứ ba, 22/11/2022 - 9:2\n",
      "BAN KHẢO THÍ VÀ QUẢN LÝ CHẤT LƯỢNG\n",
      "Sau 4 năm hoạt động, để phù hợp với tình hình thực hiện chức năng, nhiệm vụ, Giám đốc Học viện đã đổi tên Ban Khảo thí và Kiểm định chất lượng đào tạo thành Ban Khảo thí và Quản lý chất lượng vào tháng 10 năm 2010.\n",
      "I. Liên hệ\n",
      "- Tên đơn vị: Ban Khảo thí và Quản lý chất lượng\n",
      "- Địa chỉ: Số 58 Lê Văn Hiến, Phường Đức Thắng, Quận Bắc Từ Liêm, Hà Nội\n",
      "- Số điện thoại liên hệ: \n",
      "- Email: khaothi_qlcl@hvtc.edu.vn\n",
      "II. Quá trình thành lập và phát\n",
      "\t\n",
      "Thứ ba, 22/11/2022 - 9:2\n",
      "BAN KHẢO THÍ VÀ QUẢN LÝ CHẤT LƯỢNG\n",
      "Sau 4 năm hoạt động, để phù hợp với tình hình thực hiện chức năng, nhiệm vụ, Giám đốc Học viện đã đổi tên Ban Khảo thí và Kiểm định chất lượng đào tạo thành Ban Khảo thí và Quản lý chất lượng vào tháng 10 năm 2010.\n",
      "I. Liên hệ\n",
      "- Tên đơn vị: Ban Khảo thí và Quản lý chất lượng\n",
      "- Địa chỉ: Số 58 Lê Văn Hiến, Phường Đức Thắng, Quận Bắc Từ Liêm, Hà Nội\n",
      "- Số điện thoại liên hệ: \n",
      "- Email: khaothi_qlcl@hvtc.edu.vn\n",
      "II. Quá trình thành lập và phát\n",
      "\t\n",
      "Thứ ba, 22/11/2022 - 9:2\n",
      "BAN KHẢO THÍ VÀ QUẢN LÝ CHẤT LƯỢNG\n",
      "Sau 4 năm hoạt động, để phù hợp với tình hình thực hiện chức năng, nhiệm vụ, Giám đốc Học viện đã đổi tên Ban Khảo thí và Kiểm định chất lượng đào tạo thành Ban Khảo thí và Quản lý chất lượng vào tháng 10 năm 2010.\n",
      "I. Liên hệ\n",
      "- Tên đơn vị: Ban Khảo thí và Quản lý chất lượng\n",
      "- Địa chỉ: Số 58 Lê Văn Hiến, Phường Đức Thắng, Quận Bắc Từ Liêm, Hà Nội\n",
      "- Số điện thoại liên hệ: \n",
      "- Email: khaothi_qlcl@hvtc.edu.vn\n",
      "II. Quá trình thành lập và phát\n"
     ]
    },
    {
     "name": "stderr",
     "output_type": "stream",
     "text": [
      "/tmp/ipykernel_14190/3452357257.py:1: DeprecationWarning: The 'body' parameter is deprecated and will be removed in a future version. Instead use individual parameters.\n",
      "  bm25 = es.search(\n"
     ]
    }
   ],
   "source": [
    "bm25 = es.search(\n",
    "    index=\"edu_data_index\", \n",
    "    body={\"query\": \n",
    "          {\"match\": {\"body\": inp_question }}\n",
    "    }\n",
    ")\n",
    "\n",
    "print(\"Searching time:\", bm25['took']/1000)\n",
    "print(\"BM25 results:\")\n",
    "for hit in bm25['hits']['hits'][0:3]:\n",
    "    print(\"\\t{}\".format(hit['_source']['body'][:500]))"
   ]
  },
  {
   "cell_type": "code",
   "execution_count": 14,
   "metadata": {},
   "outputs": [
    {
     "name": "stdout",
     "output_type": "stream",
     "text": [
      "Searching time: 0.011\n",
      "\n",
      "Semantic Search results:\n",
      "\t\n",
      "Thứ ba, 22/11/2022 - 9:2\n",
      "BAN KHẢO THÍ VÀ QUẢN LÝ CHẤT LƯỢNG\n",
      "Sau 4 năm hoạt động, để phù hợp với tình hình thực hiện chức năng, nhiệm vụ, Giám đốc Học viện đã đổi tên Ban Khảo thí và Kiểm định chất lượng đào tạo thành Ban Khảo thí và Quản lý chất lượng vào tháng 10 năm 2010.\n",
      "I. Liên hệ\n",
      "- Tên đơn vị: Ban Khảo thí và Quản lý chất lượng\n",
      "- Địa chỉ: Số 58 Lê Văn Hiến, Phường Đức Thắng, Quận Bắc Từ Liêm, Hà Nội\n",
      "- Số điện thoại liên hệ: \n",
      "- Email: khaothi_qlcl@hvtc.edu.vn\n",
      "II. Quá trình thành lập và phát\n",
      "\t\n",
      "Thứ ba, 22/11/2022 - 9:2\n",
      "BAN KHẢO THÍ VÀ QUẢN LÝ CHẤT LƯỢNG\n",
      "Sau 4 năm hoạt động, để phù hợp với tình hình thực hiện chức năng, nhiệm vụ, Giám đốc Học viện đã đổi tên Ban Khảo thí và Kiểm định chất lượng đào tạo thành Ban Khảo thí và Quản lý chất lượng vào tháng 10 năm 2010.\n",
      "I. Liên hệ\n",
      "- Tên đơn vị: Ban Khảo thí và Quản lý chất lượng\n",
      "- Địa chỉ: Số 58 Lê Văn Hiến, Phường Đức Thắng, Quận Bắc Từ Liêm, Hà Nội\n",
      "- Số điện thoại liên hệ: \n",
      "- Email: khaothi_qlcl@hvtc.edu.vn\n",
      "II. Quá trình thành lập và phát\n",
      "\t\n",
      "Thứ ba, 22/11/2022 - 9:2\n",
      "BAN KHẢO THÍ VÀ QUẢN LÝ CHẤT LƯỢNG\n",
      "Sau 4 năm hoạt động, để phù hợp với tình hình thực hiện chức năng, nhiệm vụ, Giám đốc Học viện đã đổi tên Ban Khảo thí và Kiểm định chất lượng đào tạo thành Ban Khảo thí và Quản lý chất lượng vào tháng 10 năm 2010.\n",
      "I. Liên hệ\n",
      "- Tên đơn vị: Ban Khảo thí và Quản lý chất lượng\n",
      "- Địa chỉ: Số 58 Lê Văn Hiến, Phường Đức Thắng, Quận Bắc Từ Liêm, Hà Nội\n",
      "- Số điện thoại liên hệ: \n",
      "- Email: khaothi_qlcl@hvtc.edu.vn\n",
      "II. Quá trình thành lập và phát\n"
     ]
    },
    {
     "name": "stderr",
     "output_type": "stream",
     "text": [
      "/tmp/ipykernel_2147/4175631082.py:1: DeprecationWarning: The 'body' parameter is deprecated and will be removed in a future version. Instead use individual parameters.\n",
      "  sem_search = es.search(index=\"edu_data_index\", body=\n"
     ]
    }
   ],
   "source": [
    "sem_search = es.search(index=\"edu_data_index\", body=\n",
    "                       {\n",
    "                            \"query\": {\n",
    "                                \"script_score\": {\n",
    "                                    \"query\" : {\n",
    "                                        \"match_all\": {},\n",
    "                                    },\n",
    "                                    \"script\": {\n",
    "                                        \"source\": \"cosineSimilarity(params.query_vector, 'body_vector') + 1.0\", \n",
    "                                        \"params\": {\n",
    "                                            \"query_vector\": question_embedding\n",
    "                                        }\n",
    "                                    }\n",
    "                                }\n",
    "                            }\n",
    "                        }\n",
    ")\n",
    "\n",
    "print(\"Searching time:\", sem_search['took']/1000)\n",
    "\n",
    "print(\"\\nSemantic Search results:\")\n",
    "for hit in sem_search['hits']['hits'][0:3]:\n",
    "    print(\"\\t{}\".format(hit['_source']['body'][:500]))"
   ]
  },
  {
   "cell_type": "code",
   "execution_count": 38,
   "metadata": {},
   "outputs": [],
   "source": [
    "eval_dataset = load_dataset(\"nlplabtdtu/xquad_benchmark\",split='train')"
   ]
  },
  {
   "cell_type": "code",
   "execution_count": 39,
   "metadata": {},
   "outputs": [
    {
     "data": {
      "text/plain": [
       "Dataset({\n",
       "    features: ['question', 'contexts'],\n",
       "    num_rows: 1190\n",
       "})"
      ]
     },
     "execution_count": 39,
     "metadata": {},
     "output_type": "execute_result"
    }
   ],
   "source": [
    "eval_dataset"
   ]
  },
  {
   "cell_type": "code",
   "execution_count": 40,
   "metadata": {},
   "outputs": [
    {
     "name": "stdout",
     "output_type": "stream",
     "text": [
      "5950\n",
      "240\n"
     ]
    }
   ],
   "source": [
    "unique_context = []\n",
    "for row in eval_dataset:\n",
    "    # print(row)\n",
    "    for context in row['contexts']:\n",
    "        unique_context.append(context)\n",
    "print(len(unique_context))\n",
    "unique_context = list(set(unique_context))\n",
    "print(len(unique_context))"
   ]
  },
  {
   "cell_type": "code",
   "execution_count": 50,
   "metadata": {},
   "outputs": [
    {
     "name": "stderr",
     "output_type": "stream",
     "text": [
      "Downloading (…)b4425/.gitattributes: 100%|██████████| 1.52k/1.52k [00:00<00:00, 1.83MB/s]\n",
      "Downloading (…)_Pooling/config.json: 100%|██████████| 190/190 [00:00<00:00, 228kB/s]\n",
      "Downloading (…)1c250b4425/README.md: 100%|██████████| 3.88k/3.88k [00:00<00:00, 4.88MB/s]\n",
      "Downloading (…)25/added_tokens.json: 100%|██████████| 75.0/75.0 [00:00<00:00, 93.8kB/s]\n",
      "Downloading (…)250b4425/config.json: 100%|██████████| 717/717 [00:00<00:00, 878kB/s]\n",
      "Downloading (…)ce_transformers.json: 100%|██████████| 123/123 [00:00<00:00, 159kB/s]\n",
      "Downloading (…)61c250b4425/dict.txt: 100%|██████████| 641k/641k [00:00<00:00, 3.60MB/s]\n",
      "Downloading (…)aluation_results.csv: 100%|██████████| 4.87k/4.87k [00:00<00:00, 4.85MB/s]\n",
      "Downloading pytorch_model.bin: 100%|██████████| 138M/138M [00:09<00:00, 14.7MB/s] \n",
      "Downloading (…)nce_bert_config.json: 100%|██████████| 53.0/53.0 [00:00<00:00, 66.3kB/s]\n",
      "Downloading (…)tencepiece.bpe.model: 100%|██████████| 1.03M/1.03M [00:01<00:00, 893kB/s]\n",
      "Downloading (…)cial_tokens_map.json: 100%|██████████| 167/167 [00:00<00:00, 208kB/s]\n",
      "Downloading (…)okenizer_config.json: 100%|██████████| 1.26k/1.26k [00:00<00:00, 1.53MB/s]\n",
      "Downloading (…)50b4425/modules.json: 100%|██████████| 229/229 [00:00<00:00, 329kB/s]\n"
     ]
    }
   ],
   "source": [
    "from sentence_transformers import SentenceTransformer, util\n",
    "model = SentenceTransformer('nlplabtdtu/bert-30M-uncased-senformer')"
   ]
  },
  {
   "cell_type": "code",
   "execution_count": 53,
   "metadata": {},
   "outputs": [
    {
     "name": "stderr",
     "output_type": "stream",
     "text": [
      "/tmp/ipykernel_14190/411385408.py:1: DeprecationWarning: Passing transport options in the API method is deprecated. Use 'Elasticsearch.options()' instead.\n",
      "  es.indices.delete(index=\"eval_data_index\", ignore=[400])\n"
     ]
    },
    {
     "data": {
      "text/plain": [
       "ObjectApiResponse({'acknowledged': True})"
      ]
     },
     "execution_count": 53,
     "metadata": {},
     "output_type": "execute_result"
    }
   ],
   "source": [
    "es.indices.delete(index=\"eval_data_index\", ignore=[400])"
   ]
  },
  {
   "cell_type": "code",
   "execution_count": 54,
   "metadata": {},
   "outputs": [
    {
     "name": "stderr",
     "output_type": "stream",
     "text": [
      "/tmp/ipykernel_14190/2657275120.py:18: DeprecationWarning: Passing transport options in the API method is deprecated. Use 'Elasticsearch.options()' instead.\n",
      "  es.indices.create(index='eval_data_index', body=es_index, ignore=[400])\n",
      "/tmp/ipykernel_14190/2657275120.py:18: DeprecationWarning: The 'body' parameter is deprecated and will be removed in a future version. Instead use individual parameters.\n",
      "  es.indices.create(index='eval_data_index', body=es_index, ignore=[400])\n"
     ]
    }
   ],
   "source": [
    "if not es.indices.exists(index=\"eval_data_index\"):\n",
    "    # try:\n",
    "      es_index = {\n",
    "        \"mappings\": {\n",
    "          \"properties\": {\n",
    "\n",
    "            \"body\": {\n",
    "              \"type\": \"text\"\n",
    "            },\n",
    "            \"body_vector\": {\n",
    "              \"type\": \"dense_vector\",\n",
    "              \"dims\": 512\n",
    "            }\n",
    "          }\n",
    "        }\n",
    "      }\n",
    "\n",
    "      es.indices.create(index='eval_data_index', body=es_index, ignore=[400])\n",
    "      bulk_data = []\n",
    "      for i in range(len(unique_context)):\n",
    "        embedding = model.encode(unique_context[i], show_progress_bar=False)\n",
    "        bulk_data.append({\n",
    "                \"_index\": 'eval_data_index',\n",
    "                \"_source\": {\n",
    "                    \"body\": unique_context[i],\n",
    "                    \"body_vector\": embedding\n",
    "                }\n",
    "            })\n",
    "      # print(bulk_data[0])\n",
    "\n",
    "      helpers.bulk(es, bulk_data)\n",
    "\n",
    "    # except:\n",
    "    #     print(\"During index an exception occured. Continue\\n\\n\")"
   ]
  },
  {
   "cell_type": "code",
   "execution_count": 48,
   "metadata": {},
   "outputs": [
    {
     "name": "stderr",
     "output_type": "stream",
     "text": [
      "/tmp/ipykernel_14190/2152021411.py:6: DeprecationWarning: The 'body' parameter is deprecated and will be removed in a future version. Instead use individual parameters.\n",
      "  bm25 = es.search(\n"
     ]
    },
    {
     "name": "stdout",
     "output_type": "stream",
     "text": [
      "Total time: 10.321417570114136\n",
      "Accuracy: 0.9168067226890756\n"
     ]
    }
   ],
   "source": [
    "import time\n",
    "start_time = time.time()\n",
    "count_true = 0\n",
    "for row in eval_dataset:\n",
    "    inp_question = row['question']\n",
    "    bm25 = es.search(\n",
    "        index=\"eval_data_index\", \n",
    "        body={\"query\": \n",
    "            {\"match\": {\"body\": inp_question }}\n",
    "        },\n",
    "        size=1\n",
    "    )\n",
    "    if bm25['hits']['hits'][0]['_source']['body'] == row['contexts'][-1]:\n",
    "        count_true += 1\n",
    "end_time = time.time()\n",
    "print(\"Total time:\", end_time - start_time)\n",
    "print(\"Accuracy:\", count_true/len(eval_dataset))"
   ]
  },
  {
   "cell_type": "code",
   "execution_count": 57,
   "metadata": {},
   "outputs": [
    {
     "name": "stderr",
     "output_type": "stream",
     "text": [
      "/tmp/ipykernel_14190/2443178705.py:7: DeprecationWarning: The 'body' parameter is deprecated and will be removed in a future version. Instead use individual parameters.\n",
      "  sem_search = es.search(index=\"eval_data_index\", body=\n"
     ]
    },
    {
     "name": "stdout",
     "output_type": "stream",
     "text": [
      "Total time: 27.303131818771362\n",
      "Accuracy: 0.9949579831932773\n"
     ]
    }
   ],
   "source": [
    "import time\n",
    "start_time = time.time()\n",
    "count_true = 0\n",
    "for row in eval_dataset:\n",
    "    inp_question = row['question']\n",
    "    question_embedding = model.encode(inp_question)\n",
    "    sem_search = es.search(index=\"eval_data_index\", body=\n",
    "                       {\n",
    "                            \"query\": {\n",
    "                                \"script_score\": {\n",
    "                                    \"query\" : {\n",
    "                                        \"match_all\": {},\n",
    "                                    },\n",
    "                                    \"script\": {\n",
    "                                        \"source\": \"cosineSimilarity(params.query_vector, 'body_vector') + 1.0\", \n",
    "                                        \"params\": {\n",
    "                                            \"query_vector\": question_embedding\n",
    "                                        }\n",
    "                                    }\n",
    "                                }\n",
    "                            }\n",
    "                        },\n",
    "                        size=5\n",
    "    )\n",
    "    for hit in sem_search['hits']['hits']:\n",
    "        if hit['_source']['body'] == row['contexts'][-1]:\n",
    "            count_true += 1\n",
    "            break\n",
    "end_time = time.time()\n",
    "print(\"Total time:\", end_time - start_time)\n",
    "print(\"Accuracy:\", count_true/len(eval_dataset))"
   ]
  },
  {
   "cell_type": "code",
   "execution_count": 56,
   "metadata": {},
   "outputs": [
    {
     "name": "stderr",
     "output_type": "stream",
     "text": [
      "/tmp/ipykernel_14190/196540366.py:7: DeprecationWarning: The 'body' parameter is deprecated and will be removed in a future version. Instead use individual parameters.\n",
      "  bm25 = es.search(\n"
     ]
    },
    {
     "name": "stdout",
     "output_type": "stream",
     "text": [
      "Total time: 26.23408532142639\n",
      "Accuracy: 0.9100840336134454\n"
     ]
    }
   ],
   "source": [
    "import time\n",
    "import torch\n",
    "start_time = time.time()\n",
    "count_true = 0\n",
    "for row in eval_dataset:\n",
    "    inp_question = row['question']\n",
    "    bm25 = es.search(\n",
    "        index=\"eval_data_index\", \n",
    "        body={\"query\": \n",
    "            {\"match\": {\"body\": inp_question }}\n",
    "        },\n",
    "        size=2\n",
    "    )\n",
    "\n",
    "    encoded_contexts = [hit['_source']['body_vector'] for hit in bm25['hits']['hits']]\n",
    "    encoded_contexts = torch.tensor(encoded_contexts)\n",
    "    contexts = [hit['_source']['body'] for hit in bm25['hits']['hits']]\n",
    "    result = util.semantic_search(model.encode(inp_question), encoded_contexts, top_k=1)\n",
    "    # print(result)\n",
    "    if contexts[int(result[0][0]['corpus_id'])] == row['contexts'][-1]:\n",
    "        count_true += 1\n",
    "    # else:\n",
    "    #     print(f\"predict: {contexts[int(result[0][0]['corpus_id'])]}\")\n",
    "    #     print(contexts)\n",
    "    #     print(inp_question)\n",
    "    #     break\n",
    "end_time = time.time()\n",
    "print(\"Total time:\", end_time - start_time)\n",
    "print(\"Accuracy:\", count_true/len(eval_dataset))"
   ]
  },
  {
   "cell_type": "code",
   "execution_count": null,
   "metadata": {},
   "outputs": [],
   "source": []
  }
 ],
 "metadata": {
  "kernelspec": {
   "display_name": "elastic",
   "language": "python",
   "name": "python3"
  },
  "language_info": {
   "codemirror_mode": {
    "name": "ipython",
    "version": 3
   },
   "file_extension": ".py",
   "mimetype": "text/x-python",
   "name": "python",
   "nbconvert_exporter": "python",
   "pygments_lexer": "ipython3",
   "version": "3.9.18"
  }
 },
 "nbformat": 4,
 "nbformat_minor": 2
}
